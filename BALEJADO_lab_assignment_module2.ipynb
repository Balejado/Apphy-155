{
 "cells": [
  {
   "cell_type": "markdown",
   "metadata": {
    "id": "G0BcK0H_G1Iu"
   },
   "source": [
    "# **AP155 Lab Assignment**\n",
    "## Module 2: Solution of Linear and Nonlinear Equations\n",
    "\n",
    "_Instructions_: Answer each problem as completely as you can. Discuss **all** your answers as clearly and concisely as possible.\n",
    "\n",
    "_Scoring Criteria_: 50% - *correctness of code*; 50% - *discussion of the code and results*. Maximum score is **100 points**.\n",
    "\n"
   ]
  },
  {
   "cell_type": "markdown",
   "metadata": {
    "id": "PeHZ9kP8JaVR"
   },
   "source": [
    "### Student Information\n",
    "\n",
    "_Full Name (Last Name, First Name)_: BALEJADO, Venser\\\n",
    "_Student No._: 2022-13875\\\n",
    "_Section_: THV-TX-2"
   ]
  },
  {
   "cell_type": "markdown",
   "metadata": {
    "id": "Hc183co-J4eI"
   },
   "source": [
    "### Submission Information\n",
    "\n",
    "_Date and Time Submitted (most recent upload)_: 10/05/24 -- 05:00 pm\n",
    "\n",
    "**HONOR PLEDGE** I affirm that I have upheld the highest principles of honesty and integrity in my academic work and that this lab assignment is my own work.\n",
    "\n",
    "**Sign here with your full name: VENSER HALILI BALEJADO**"
   ]
  },
  {
   "cell_type": "markdown",
   "metadata": {
    "id": "4LUwfsfMBmvd"
   },
   "source": [
    "### Grading Information (c/o Lab Instructor)\n",
    "\n",
    "TOTAL SCORE: **XX**/100\n",
    "\n",
    "Score breakdown:\n",
    "* Problem 1 - XX/30\n",
    "* Problem 2 - XX/30\n",
    "* Problem 3 - XX/40\n",
    "\n"
   ]
  },
  {
   "cell_type": "markdown",
   "metadata": {
    "id": "kBX9EyMLOnXj"
   },
   "source": [
    "### PROBLEM 1\n",
    "\n",
    "**Solve for eigenvalues and eigenvectors of a symmetric matrix**\n",
    "\n",
    "1. Use numpy's $\\tt linalg$ package to find the eigenvalues and eigenvectors of the ff. symmetrix matrix *(15 pts.)*:\n",
    "\n",
    "$ \\begin{equation}\n",
    "{\\bf A} =\n",
    "\\begin{pmatrix}\n",
    "8 & -2 & -20 \\\\\n",
    "-2 & -3 & -9 \\\\\n",
    "-20 & -9 & -3\n",
    "\\end{pmatrix} \\end{equation} $\n",
    "\n",
    "2. Check your answer numerically; that is, check that $\\bf AV = VD$, where the $N$ x $N$ matrix $\\bf V$ has the eigenvectors as its columns and $\\bf D$ is the diagonal matrix with the eigenvalues $\\lambda_i$ as its diagonal entries. *(15 pts.)*"
   ]
  },
  {
   "cell_type": "code",
   "execution_count": 37,
   "metadata": {
    "id": "GABjwlXCR97i"
   },
   "outputs": [
    {
     "name": "stdout",
     "output_type": "stream",
     "text": [
      "The eigenvalues of matrix A are:\n",
      "[-21.99606195   0.16021522  23.83584674]\n",
      "\n",
      "The eigenvector of matrix A is:\n",
      "[[ 0.52496527  0.36793396 -0.76748685]\n",
      " [ 0.40892672 -0.89987151 -0.15169114]\n",
      " [ 0.74645187  0.2342133   0.62285932]]\n",
      "\n",
      "In checking the answer numerically we take the ff.\n",
      "\n",
      "The given matrix multiplied with matrix whose eigenvectors (A) are its columns (V)\n",
      "[[-11.54716868   0.05894862 -18.29369893]\n",
      " [ -8.99477756  -0.14417311  -3.61568676]\n",
      " [-16.4190016    0.03752454  14.8463793 ]]\n",
      "\n",
      "The matrix with the eigenvectors as its column (V) multiplied \n",
      "with the diagonal matrix with the eigenvalues as its diagonal entries (D):\n",
      "[[-11.54716868   0.05894862 -18.29369893]\n",
      " [ -8.99477756  -0.14417311  -3.61568676]\n",
      " [-16.4190016    0.03752454  14.8463793 ]]\n",
      "\n",
      "By checking through AV = VD using np.allclose we get the results of:\n",
      "True\n",
      "\n",
      "The percent error for AV using the Frobenius norm is:\n",
      "4.529625936454272e-16\n",
      "\n",
      "The percent error for VD using the Frobenius norm is:\n",
      "4.529625936454271e-16\n",
      "\n",
      "The percent error using the inverse is:\n",
      "4.110978606841827e-16\n",
      "\n",
      "By Frobenius norm, the percent error is very small which we can conclude\n",
      "that AV is approximately the same as VD.\n"
     ]
    }
   ],
   "source": [
    "import numpy as np              # for operations\n",
    "from numpy import array, matmul # for creating matrices and multiplying matrices\n",
    "from numpy.linalg import eigh, norm, inv   # for solving the eigenvalues and eigenvectors of a symmetric matrix\n",
    "\n",
    "# 1. Using the numpys linalg package to find the egenvalues and eigenvectors of symmetric matrix A\n",
    "\n",
    "A = array ([[8, -2, -20],[-2, -3, -9],[-20, -9, -3]]) # Defining the given matrix using the array function imported from numpy \n",
    "# x = eigenvalues\n",
    "# V = eigenvectors\n",
    "x, V = eigh(A) # eigh function was called to solve the eigenvalues and eigenvectors of symmetric matrix A\n",
    "\n",
    "# Checking the answer numerically using AV = VD\n",
    "\n",
    "D = np.diag(x) # np.diag creates a diagonal matrix or Identity matrix with the values from x (eigenvalues) set as the diagonal values\n",
    "AV = np.dot(A, V) # takes the matrix multiplication of our matrix A and the eigenvectors matrix V\n",
    "VD = np.dot(V, D) # takes the matrix multiplication of our eigenvectors matrix V and the Diagonal matrix D with eigenvalues as the diagonal input\n",
    "\n",
    "# Printing the values and answers\n",
    "print(\"The eigenvalues of matrix A are:\")\n",
    "print(x)\n",
    "print(\"\")\n",
    "print(\"The eigenvector of matrix A is:\")\n",
    "print(V)\n",
    "print(\"\")\n",
    "print(\"In checking the answer numerically we take the ff.\")\n",
    "print(\"\")\n",
    "print(\"The given matrix multiplied with matrix whose eigenvectors (A) are its columns (V)\")\n",
    "print(AV)\n",
    "print(\"\")\n",
    "print('''The matrix with the eigenvectors as its column (V) multiplied \n",
    "with the diagonal matrix with the eigenvalues as its diagonal entries (D):''')\n",
    "print(VD)\n",
    "print(\"\")\n",
    "print(\"By checking through AV = VD using np.allclose we get the results of:\")\n",
    "print(np.allclose(AV, VD)) # Using the np.allclose to check if the two arrays are numerically the same\n",
    "print(\"\")\n",
    "print(\"The percent error for AV using the Frobenius norm is:\")\n",
    "# Difference of \"*\" and \"@\" is that the former performs a scalar multiplication and the latter performs a matrix operations\n",
    "print (np.linalg.norm((A @ V)-(V @ D)) / np.linalg.norm(V @ D)) # @ calls for matrix multiplication\n",
    "print(\"\")\n",
    "print(\"The percent error for VD using the Frobenius norm is:\")\n",
    "print (norm((V @ D)-(A @ V))/ norm(A @ V))\n",
    "print(\"\")\n",
    "print(\"The percent error using the inverse is:\")\n",
    "print (norm(A - (V @ (D @ inv(V))))/norm(A))\n",
    "print(\"\")\n",
    "print('''By Frobenius norm, the percent error is very small which we can conclude\n",
    "that AV is approximately the same as VD.''')\n",
    "\n",
    "# note: I tried running the percent error in colab and jupyter where I got different estimation but both are very small numbers.\n",
    "# This particular solution was run using jupyter"
   ]
  },
  {
   "cell_type": "markdown",
   "metadata": {
    "id": "HceOjNu-VfN9"
   },
   "source": [
    "### PROBLEM 2\n",
    "\n",
    "**Solve a nonlinear equation using the relaxation method**\n",
    "\n",
    "Consider the equation $x=1- e^{-cx}$, where $c$ is a known parameter and $x$ is unknown. This equation arises in a variety of situations, including the physics of contact processes, mathematical models of epidemics, and the theory of random graphs.\n",
    "\n",
    "1. Write a program to solve this equation for $x$ using the relaxation method for the case $c = 2$. Calculate your solution to an accuracy of at least $10^{-6}$. *(10 pts.)*\n",
    "\n",
    "2. Modify your program to calculate the solution for values of $c$ from 0 to 3 in steps of 0.01. *(10 pts.)*\n",
    "\n",
    "3. Make a plot of $x$ as a function of $c$. Describe the different regimes that you see. *(10 pts.)*"
   ]
  },
  {
   "cell_type": "code",
   "execution_count": 39,
   "metadata": {},
   "outputs": [
    {
     "name": "stdout",
     "output_type": "stream",
     "text": [
      "The solution for c=2 : 0.7968126\n",
      "\n",
      "The plot for x as a function of c after calculating         \n",
      "the solution values of c from 0 to 3 in steps of 1 is given by:\n",
      "\n"
     ]
    },
    {
     "data": {
      "image/png": "[encoded data removed]",
      "text/plain": [
       "<Figure size 500x500 with 1 Axes>"
      ]
     },
     "metadata": {},
     "output_type": "display_data"
    },
    {
     "name": "stdout",
     "output_type": "stream",
     "text": [
      " (i) The plot shows that x is 0 for c = 0 up to c = 1. \n",
      "(ii) The plot also shows that from c = 1 to c = 3, the plot approaches x = 1 but is never 1.\n",
      "     this can be from the equation we used in relaxation method where 1 is subtracted to an \n",
      "     always negative value (-e^{-cx} for any value of c and x), \n",
      "     making it not exceed or be equal to 1.\n"
     ]
    }
   ],
   "source": [
    "import numpy as np                # for computing numerical operations\n",
    "import matplotlib.pyplot as plt   # for plotting\n",
    "from math import exp, e           # for using euler (e) or exponential (exp)\n",
    "\n",
    "\n",
    "def relaxation(c): # Defining the relaxation function with parameter c\n",
    "    x_0 = 1        # initial guess which will be the starting value of x for the iterations\n",
    "    E = 1e-6       # The accuracy, we use this to check when the change in the iterations is less\n",
    "                   # than the value of E, the loop will consider that it will converge\n",
    "    I = 10000      # max iterations (to prevent the relaxation from going on to infinity if ever\n",
    "    x_n = x_0      # in this line, we set the x_n to be the initial guess, but it will be updated as the loop move on\n",
    "    for i in range(I):\n",
    "        x_1 = 1 - exp(-c * x_n)   # the relaxation equation will be used to update the x_n \n",
    "        if (abs(x_1 - x_n)) < E:  # this will check the convergence, if this equation\n",
    "                                  # is less than E, it will consider the values to converge\n",
    "            return x_1            # if it considers the value to converge, it will return x_1 (new value for x)\n",
    "        x_n = x_1                 # This lines updates x_n for the next iteration \n",
    "    return x_n  # The iterations will go on as long as the absolute values of the new x minus the second x is\n",
    "                # less than the accuracy, this line will return the last x_n computed as the value of our x\n",
    "\n",
    "# Solving for c = 2\n",
    "c = 2\n",
    "result = relaxation(c)  # assigning a variable to our result using the relaxation where we can set parameter c to anything given (2 in this problem)\n",
    "\n",
    "#printing the result for the relaxation method for c = 2 with 7 sig figs\n",
    "print(f'The solution for c={c} : {result:.7f}') \n",
    "\n",
    "c_n = np.arange(0, 3, 0.01)    # creating an array of c from 0 to 3 with 0.01 increments\n",
    "f_result = []                  # This empty list is where we will store the values of the c's that we will\n",
    "                               # input in our relaxation formula above\n",
    "\n",
    "for c in c_n:                  # creating a loop for every c in c_n\n",
    "    c_result = relaxation(c)   # this line is where we input every c in c_n in our relaxation formula represented by the variable c_result\n",
    "    f_result.append(c_result)  # we append/store our values that we solve in the f_result list that we have \n",
    "\n",
    "# Plotting the results\n",
    "print(\"\")\n",
    "print('''The plot for x as a function of c after calculating         \n",
    "the solution values of c from 0 to 3 in steps of 1 is given by:''')  \n",
    "print(\"\")\n",
    "plt.figure(figsize=(5, 5))                                           # setting the size of the plot\n",
    "plt.scatter(c_n, f_result, label='Solution x(c)', color='lime')      # x axis, y axis, label, color of plot\n",
    "plt.xlabel('c')                                                      # x label of the plot\n",
    "plt.ylabel('x')                                                      # y label of the plot\n",
    "plt.title('x as a function of c')                                    # title of the plot\n",
    "plt.legend()                                                         # used to call the legend for plot\n",
    "plt.grid()                                                           # used to include grids in the graph\n",
    "plt.show()                                                           # calls the function to plot \n",
    "\n",
    "# Describing the Different regimens in the plot\n",
    "print (''' (i) The plot shows that x is 0 for c = 0 up to c = 1. \n",
    "(ii) The plot also shows that from c = 1 to c = 3, the plot approaches x = 1 but is never 1.\n",
    "     this can be from the equation we used in relaxation method where 1 is subtracted to an \n",
    "     always negative value (-e^{-cx} for any value of c and x), \n",
    "     making it not exceed or be equal to 1.''')\n"
   ]
  },
  {
   "cell_type": "markdown",
   "metadata": {
    "id": "BY5x-mZsYoqG"
   },
   "source": [
    "### PROBLEM 3\n",
    "\n",
    "**Physics Application: Calculating the Lagrange point**\n",
    "\n",
    "_Refer to Exercise 6.16 of the Newman text._ The $L_1$ Lagrange point is the point between the Earth and the Moon at which a satellite will orbit the Earth in perfect synchrony with the Moon, staying always in between the two.\n",
    "\n",
    "Assuming circular orbits, and assuming that the Earth is much more massive than either the Moon or the satellite, the distance $r$ from the center of the Earth to the $L_1$ point satisfies\n",
    "$$ \\begin{equation}\n",
    "\\frac{GM}{r^2} - \\frac{Gm}{(R-r)^2} = \\omega^2 r,\n",
    "\\end{equation} $$\n",
    "where $R$ is the distance from the Earth to the Moon, $M$ and $m$ are the Earth and Moon masses, $G$ is Newton's gravitational constant, and $\\omega$ is the angular velocity of both the Moon and the satellite."
   ]
  },
  {
   "cell_type": "markdown",
   "metadata": {
    "id": "LlDDXIZ46CKU"
   },
   "source": [
    "Use Newton's method to solve for the distance r from the Earth to the $L_1$ point. Compute a solution accurate to at least four significant figures."
   ]
  },
  {
   "cell_type": "code",
   "execution_count": 41,
   "metadata": {},
   "outputs": [
    {
     "name": "stdout",
     "output_type": "stream",
     "text": [
      "the distance r from the Earth to the L_1 point is : 326045071.7734316\n"
     ]
    }
   ],
   "source": [
    "import numpy                    # for numerical computations and constants\n",
    "import math                     # for mathematical functions\n",
    "from math import floor, log10   # the mathematical functions used in the solution\n",
    "\n",
    "# Constants\n",
    "m = 7.348e22          # mass of the Moon in kg\n",
    "R = 3.844e8           # distance from Earth to Moon in m\n",
    "G = 6.674e-11         # Gravitational constant\n",
    "M = 5.974e24          # mass of the Earth in kg\n",
    "w =  2.662e-6         # Angular velocity (w) in rad/s ((2 * pi) / T)\n",
    "T = 27.3 * 24 * 3600  # orbital period of the Moon in s\n",
    "\n",
    "# Defining the function and the first derivative -- used to calculate the net force\n",
    "def f(r):   # this function shows the total effective force acting on a small mass at distance (r) from earth.\n",
    "    return (G*M/r**2-G*m/(R-r)**2) - (w**2*r)\n",
    "def df(r):  # first derivative of f: df/dx\n",
    "    return (-2*G*M/r**3 - 2*G*m/(R-r)**3) - (w**2)\n",
    "\n",
    "# Newton's method\n",
    "def newtons(x_n, E):                                    # E is used for setting the wanted precision\n",
    "  x_0 = x_n                                             # x_n is the initial guess for the distance (r)\n",
    "  x_1 = x_n - f(x_n)/df(x_n)                            # formula for the estimate of the root -- where we can get a new value for our distance\n",
    "  while abs(x_1 - x_0) > 10**(floor(log10(x_1))-(E-1)): # constructs our limit where we test our successive values from newtons method\n",
    "                                                        # iterates until the difference of succeeding values are smaller than the precision limit that we want\n",
    "    x_1, x_0 = x_1 - f(x_1)/df(x_1), x_1                # updates our newtons method for the next iterations until we get our desired value\n",
    "  return x_1                                            # returns the desired value\n",
    "\n",
    "initial_r = 3e7 # this sets our guess/initial value for r, this is a distance not too close to earth and not too far from earth\n",
    "                # where it is between the earth and the moon, so that the method will converge effectively.\n",
    "tolerance = 4  # this sets the precision since we want the answer to be accurate to atleast 4 significan figures\n",
    "answer = newtons (initial_r, tolerance) # calls the newtons method with the guess as ou x_n and the tolerance as our E\n",
    "print(f'the distance r from the Earth to the L_1 point is : {answer}')"
   ]
  },
  {
   "cell_type": "code",
   "execution_count": null,
   "metadata": {},
   "outputs": [],
   "source": []
  }
 ],
 "metadata": {
  "colab": {
   "provenance": []
  },
  "kernelspec": {
   "display_name": "Python 3 (ipykernel)",
   "language": "python",
   "name": "python3"
  },
  "language_info": {
   "codemirror_mode": {
    "name": "ipython",
    "version": 3
   },
   "file_extension": ".py",
   "mimetype": "text/x-python",
   "name": "python",
   "nbconvert_exporter": "python",
   "pygments_lexer": "ipython3",
   "version": "3.11.7"
  }
 },
 "nbformat": 4,
 "nbformat_minor": 4
}
