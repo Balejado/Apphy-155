{
 "cells": [
  {
   "cell_type": "markdown",
   "metadata": {
    "id": "G0BcK0H_G1Iu"
   },
   "source": [
    "# **AP155 Lab Assignment**\n",
    "## Module 1: Integrals and Derivatives\n",
    "\n",
    "_Instructions_: Answer each problem as completely as you can. Discuss **all** your answers as clearly and concisely as possible.\n",
    "\n",
    "_Scoring Criteria_: 50% - *correctness of code*; 50% - *discussion of the code and results*. Maximum score is **100 points**.\n",
    "\n",
    "\n"
   ]
  },
  {
   "cell_type": "markdown",
   "metadata": {
    "id": "PeHZ9kP8JaVR"
   },
   "source": [
    "### Student Information\n",
    "\n",
    "_Full Name (Last Name, First Name)_: BALEJADO, Venser \\\n",
    "_Student No._: 2022-13875 \\\n",
    "_Section_: THV-TX-2"
   ]
  },
  {
   "cell_type": "markdown",
   "metadata": {
    "id": "Hc183co-J4eI"
   },
   "source": [
    "### Submission Information\n",
    "\n",
    "_Date and Time Submitted (most recent upload)_: 09-19-24 1:30 PM\n",
    "\n",
    "**HONOR PLEDGE** I affirm that I have upheld the highest principles of honesty and integrity in my academic work and that this lab assignment is my own work.\n",
    "\n",
    "**Sign here with your full name: VENSER HALILI BALEJADO**"
   ]
  },
  {
   "cell_type": "markdown",
   "metadata": {
    "id": "X1UGsRpW-eQs"
   },
   "source": [
    "### Grading Information (c/o Lab Instructor)\n",
    "\n",
    "TOTAL SCORE: <font color='red'>**93/100**</font>\n",
    "\n",
    "Score breakdown:\n",
    "* Problem 1 - <font color='red'>**28/30**</font>\n",
    "* Problem 2 - <font color='red'>**30/30**</font>\n",
    "* Problem 3 - <font color='red'>**35/40**</font>\n",
    "\n",
    "<font color='red'>**Checked on 07 October 2024 1:58PM**</font> \\\n",
    "<font color='red'>**signed GC Belinario**</font>"
   ]
  },
  {
   "cell_type": "markdown",
   "metadata": {
    "id": "LxWuqiCFMsEh"
   },
   "source": [
    "### PROBLEM 1\n",
    "**Integration using the trapezoidal rule and Simpson's rule**\n",
    "\n",
    "Calculate the integral of the function $ 2x^4 + 3x^2 + 4x + 5$ from $x=0$ to $x=5$.\n",
    "\n",
    "1. Do the numerical calculation using the trapezoidal rule with 10, 100, and 1,000 slices. Describe each step of the calculation clearly and concisely. \n",
    "\n",
    "2. What are the percentage errors of your answers in (1)? \n",
    "\n",
    "3. Repeat the calculation using Simpson's rule with 10, 100, and 1,000 slices. Describe each step of the calculation clearly and concisely. \n",
    "\n",
    "4. What are the percentage errors of your answers in (3)? How do they compare with the results from (1) for the same number of slices?\n",
    "\n",
    "<font color='red'>Correctness of Code: 15/15</font> \\\n",
    "<font color='red'>Discussion of Code and Results: 13/15</font>"
   ]
  },
  {
   "cell_type": "markdown",
   "metadata": {
    "id": "phd2tSLntTaX"
   },
   "source": [
    "####Approximation using Trapezoidal Rule"
   ]
  },
  {
   "cell_type": "code",
   "execution_count": null,
   "metadata": {
    "colab": {
     "base_uri": "https://localhost:8080/"
    },
    "id": "D1MpFdX4FE3n",
    "outputId": "779c50ae-e301-461d-ac27-1f3c6ff9ac2b"
   },
   "outputs": [
    {
     "name": "stdout",
     "output_type": "stream",
     "text": [
      "Approximation of the integral using the Trapezoidal Rule:\n",
      "I        # of slices (N):        I            Result:             I            % Error:            I \n",
      "I               10               I           1471.4375            I       1.478448275862069        I \n",
      "I              100               I       1450.2145812500003       I      0.014798706896569988      I \n",
      "I              1000              I       1450.0021458331234       I     0.00014798849127240326     I \n",
      "\n",
      "Approximation of the integral using the Simpson's Rule:\n",
      "I        # of slices (N):        I            Result:             I            % Error:            I\n",
      "I               10               I       1450.0833333333333       I      0.005747126436776382      I\n",
      "I              100               I       1450.0000083333337       I     5.747126657485657e-07      I\n",
      "I              1000              I       1450.0000000008342       I     5.753338035870472e-11      I\n",
      "\n",
      "The percent errors for every N was much smaller in using the Simpson's rule than when using the Trapezoidal rule.\n",
      "The percent errors were all under 1% for every N when using the Simpson's rule\n",
      "while the Trapezoidal rule has a higher percent error and gets smaller as the N increases.\n"
     ]
    }
   ],
   "source": [
    "import numpy as np # Import numpy to be able to make an array\n",
    "\n",
    "## GIVEN ##\n",
    "\n",
    "def f(x):                           # We define the function that will compute the polynomial given with an input x.\n",
    "  return 2*x**4 + 3*x**2 + 4*x + 5\n",
    "N_arr = np.array([ 10, 100, 1000])   # we use an array to get the value for different number of slices saving up space.\n",
    "                                    # this array will also come in handy in testing the percent error and the accuracy of different approximation rules.\n",
    "a = 0.0                             # Lower bound of the integral\n",
    "b = 5.0                             # Upper bound of the integral\n",
    "Eval = 1450                         # This is the exact value of the integral, it will be used to compute the percent error.\n",
    "\n",
    "## TRAPEZOIDAL RULE SETUP ##\n",
    "\n",
    "# Solving the integral through the trapezoidal rule, with N slices over the interval [a,b]\n",
    "def t_rule(N, a, b):\n",
    "  h = (b-a)/N                       # this is the width of each slices for numerical computation\n",
    "\n",
    "  s = 0.5 * f(a) + 0.5 * f(b)       # This will be the initial sum for the trapezoidal rule\n",
    "                                    # We take the sum of 1/2 of the function values at the bounds (a and b), since the trapezoidal rule considers their average value\n",
    "  for k in range(1,N):              # This loop is used to add the function value f(a+k*h) to s for each interval in range (1,N)\n",
    "    s += f(a+k*h)\n",
    "  return(s * h)                     # The sum s is multiplied by h to get the approximation of the integral and will be returned as the answer.\n",
    "\n",
    "# These are arrays used to store values of the trapezoidal rule for each N to be used for the percent error and final answer\n",
    "t_arr = np.zeros(len(N_arr))\n",
    "t_pct_arr = np.zeros(len(N_arr))\n",
    "\n",
    "# We create an i loop to iterate over each value of our N_arr\n",
    "for i in range(len(N_arr)):\n",
    "  t_arr[i] = t_rule(N_arr[i],a ,b)            # calls the trapezoidal rule function for the current N and stores the value for every i.\n",
    "  t_pct_arr[i] = (t_arr[i] - Eval)/Eval * 100 # computes the percent error for every value stored in t_arr[i] and storing them respectively.\n",
    "\n",
    "## SIMPSON'S RULE SETUP ##\n",
    "\n",
    "# Solving the integral through the Simson's rule, with N slices over the interval [a,b]\n",
    "def s_rule(N, a, b):\n",
    "  h = (b-a)/N              # The width of each slice\n",
    "\n",
    "# Since the simpson's rule evaluates the function at endpoints and midpoints\n",
    "  s = f(a) + f(b)          # We initialize the s with adding the function values at endpoints f(a) and f(b)\n",
    "  for k in range(1, N, 2): # The simpson's rule gives a weight of 4 to these odd functions\n",
    "    s += 4*f(a+k*h)        # We add this to the odd indices in between the endpoints.\n",
    "  for k in range(2, N, 2): # The simpson's rule gives a weight of 2 to these even funtions\n",
    "    s += 2*f(a+k*h)        # We add this to the even indices in between the endpoints.\n",
    "  s = s*(1/3)*h            # we multiply (1/3)*h to s to complete our approximation\n",
    "  return(s)\n",
    "\n",
    "# These are arrays used to store values of the simpson's rule for each N to be used for the percent error and final answer\n",
    "s_arr = np.zeros(len(N_arr))\n",
    "pct_arr = np.zeros(len(N_arr))\n",
    "\n",
    "# We create an i loop to iterate over each value of our N_arr\n",
    "for i in np.arange(len(N_arr)):\n",
    "  s_arr[i] = s_rule(N_arr[i],a , b)           # calls the simpson's rule function for the current N and stores the value for every i.\n",
    "  pct_arr[i] = ((s_arr[i] - Eval)/Eval) * 100 # computes the percent error for every value stored in t_arr[i] and storing them respectively.\n",
    "\n",
    "## PRINTING THE ANSWERS ##\n",
    "# Printing the approximation using the trapezoidal rule and the percent error for every N in the N_array.\n",
    "print(\"Approximation of the integral using the Trapezoidal Rule:\")\n",
    "print(f\"I {'# of slices (N):':^30} I {'Result:':^30} I {'% Error:':^30} I \")\n",
    "for i in range(len(N_arr)): # prints the N, Result, and percent error for every i in the N_arr\n",
    "  print(f\"I {N_arr[i]:^30} I {t_arr[i]:^30} I {t_pct_arr[i]:^30} I \")\n",
    "\n",
    "print(\"\") # space\n",
    "\n",
    "# Printing the approximation using the simpson's rule and the percent error for every N in the N_array.\n",
    "print(\"Approximation of the integral using the Simpson's Rule:\")\n",
    "print(f\"I {'# of slices (N):':^30} I {'Result:':^30} I {'% Error:':^30} I\")\n",
    "for i in range(len(N_arr)): # prints the N, Result, and percent error for every i in the N_arr\n",
    "  print(f\"I {N_arr[i]:^30} I {s_arr[i]:^30} I {pct_arr[i]:^30} I\")\n",
    "\n",
    "print(\"\") # space\n",
    "\n",
    "# Comparing the percent errors using the Trapezoidal rule and the Simpson's rule of approximation\n",
    "print(\"The percent errors for every N was much smaller in using the Simpson's rule than when using the Trapezoidal rule.\")\n",
    "print(\"The percent errors were all under 1% for every N when using the Simpson's rule\")\n",
    "print(\"while the Trapezoidal rule has a higher percent error and gets smaller as the N increases.\")"
   ]
  },
  {
   "cell_type": "markdown",
   "metadata": {},
   "source": [
    "<font color='red'>**#1:** (-2 pts) Provide an additional explanation of the result. For example, discuss why Simpson's rule results to a lower percent error compared to the trapezoidal rule. </font>"
   ]
  },
  {
   "cell_type": "markdown",
   "metadata": {
    "id": "m2a6sg90R-NX"
   },
   "source": [
    "### PROBLEM 2\n",
    "\n",
    "**Integration using Gaussian quadrature**\n",
    "\n",
    "Calculate the integral from Problem 1 using the Gaussian quadrature method: $ 2x^4 + 3x^2 + 4x + 5$ from $x=0$ to $x=5$.\n",
    "\n",
    "1. Define the function $\\tt gaussxw$ from Appendix E of the Newman text (and run the cell). \n",
    "\n",
    "2. Calculate the integral using the $\\tt gaussxw$ function in (1) and number of slices $N = 3$. Describe each step in the calculation clearly and concisely.\n",
    "\n",
    "<font color='red'>Correctness of Code: 15/15</font> \\\n",
    "<font color='red'>Discussion of Code and Results: 15/15</font>"
   ]
  },
  {
   "cell_type": "code",
   "execution_count": null,
   "metadata": {
    "colab": {
     "base_uri": "https://localhost:8080/"
    },
    "id": "YO_PDJ4VIVs5",
    "outputId": "c4c73190-4329-4d48-ad41-faf22cc1624b"
   },
   "outputs": [
    {
     "name": "stdout",
     "output_type": "stream",
     "text": [
      "The approximation of the integral using Gaussian Quadrature is: 1450.000000000002\n"
     ]
    }
   ],
   "source": [
    "from numpy import ones, copy, cos, tan, pi, linspace\n",
    "# ones     = for an array filled with ones\n",
    "# copy     = for creating a copy of an array\n",
    "# cos      = used to compute cosine of an angle\n",
    "# tan      = used to compute tangent of an angle\n",
    "# pi       = for the constant pi\n",
    "# linspace = used for evenly spaced values over a specified interval\n",
    "\n",
    "def gaussxw(N): # Newmann Appendix E\n",
    "\n",
    "# Initial approximation to roots of the Legendre polynomial\n",
    "  a = linspace(3, 4*N-1, N)/(4*N+2) # Approximates the initial estimate for the roots of legendre polynomial\n",
    "  x = cos(pi*a+1/(8*N*N*tan(a)))    # the initial estimate of the roots using cosine function and a correction term\n",
    "\n",
    "# Finding the roots using Newton's method\n",
    "  epsilon = 1e-15                            # Determines convergence\n",
    "  delta = 1.0                                # Will be used to measure the change in x\n",
    "  while delta > epsilon:                     # Checks if delta is greater than or less than epsilon\n",
    "    p0 = ones(N,float)\n",
    "    p1 = copy(x)\n",
    "    for k in range (1,N):                    # this loop is created to refine the estimation for the roots\n",
    "      p0, p1 = p1, ((2*k+1)*x*p1-k*p0)/(k+1) # p0 and p1 shows successive polynomials\n",
    "    dp = (N+1)*(p0-x*p1)/(1-x*x)             # derivative of p1\n",
    "    dx = p1/dp                               # change of x taken from the ratio of p1 to dp\n",
    "    x -= dx                                  # updates the estimation of the roots\n",
    "    delta = max(abs(dx))                     # updates the convergence measure\n",
    "\n",
    "  # calculate the weights based on the derivatives and roots\n",
    "  w = 2*(N+1)*(N+1)/(N*N*(1-x*x)*dp*dp)\n",
    "\n",
    "  return x,w # returns the x and w after calculating the weights\n",
    "# Defining the polynomial function that will be integrated\n",
    "\n",
    "def f(x):\n",
    "  return 2*x**4 + 3*x**2 + 4*x + 5\n",
    "\n",
    "# Listing the given values\n",
    "N = 3    # Number of quadrature points\n",
    "a = 0.0  # lower bound of integration\n",
    "b = 5.0  # upper bound of integration\n",
    "# Calculate the sample points and weights, then map them\n",
    "# to the required integration domain\n",
    "# performing the integration using a for loop\n",
    "# determines the integral approximation\n",
    "x, w = gaussxw(N)\n",
    "xp = 0.5*(b-a)*x + 0.5* (b+a)\n",
    "wp = 0.5*(b-a)*w\n",
    "\n",
    "s = 0.0\n",
    "for k in range(N):\n",
    "  s += wp[k]*f(xp[k]) # adds up the product of weights and function values at the quadrature points to get the approximation.\n",
    "\n",
    "# Printing the final answer using the Gaussian Quadrature\n",
    "print(\"The approximation of the integral using Gaussian Quadrature is:\",s)\n"
   ]
  },
  {
   "cell_type": "markdown",
   "metadata": {
    "id": "HceOjNu-VfN9"
   },
   "source": [
    "### PROBLEM 3\n",
    "\n",
    "**Physics Application: Anharmonic Oscillator**\n",
    "\n",
    "_Refer to Exercise 5.10 of the Newman text._ Consider an anharmonic oscillator with potential $V(x)$ symmetric about $x = 0$. Let us set our anharmonic oscillator going with amplitude $a$. That is, at $t = 0$ we release it from rest at position $x = a$ and it swings back towards the origin. Then at $t = 0$ we have $dx/dt = 0$ and the equation for its total energy becomes $E = V(a)$, i.e., the total energy of the particle is given in terms of the amplitude.\n",
    "\n",
    "When the particle reaches the origin for the first time, it has gone through one quarter of a period of the oscillator. The period $T$ is given by: $$ T = \\sqrt{8m} \\int_0^a \\frac{dx}{\\sqrt{V(a)-V(x)}}. $$\n",
    "\n",
    "1. Suppose the potential is $V(x) = x^4$ and the mass of the particle is $m = 1$. Write a Python function that calculates the period of the oscillator for given amplitude a using Gaussian quadrature with $N = 20$ points. Describe each step clearly and concisely.\n",
    "\n",
    "2. Use your function to make a graph of the period for amplitudes ranging from $a = 0$ to $a = 2$. Describe the behavior you find and explain these results clearly and concisely.\n",
    "\n",
    "<font color='red'>Correctness of Code: 18/20</font> \\\n",
    "<font color='red'>Discussion of Code and Results: 17/20</font>"
   ]
  },
  {
   "cell_type": "code",
   "execution_count": 17,
   "metadata": {
    "colab": {
     "base_uri": "https://localhost:8080/",
     "height": 541
    },
    "id": "p28JF-OQYock",
    "outputId": "164ec3a7-4c24-46ce-a80b-9b49af6be703"
   },
   "outputs": [
    {
     "data": {
      "image/png": "[encoded data removed]",
      "text/plain": [
       "<Figure size 640x480 with 1 Axes>"
      ]
     },
     "metadata": {},
     "output_type": "display_data"
    },
    {
     "name": "stdout",
     "output_type": "stream",
     "text": [
      "\n",
      "The plot shows that the period and amplitude have a non-linear relationship as the amplitude increases the time period becomes shorter,\n",
      "The oscillation (Period) speeds up as the amplitude increases, despite the particle having further distrance to travel for larger amplitudes,\n",
      "The larger amplitude might have provided a stronger restoring force resulting a shorter period as seen in the plot.\n"
     ]
    }
   ],
   "source": [
    "import matplotlib.pyplot as plt # for plotting\n",
    "from numpy import ones, copy, cos, tan, pi, linspace\n",
    "# ones     = for an array filled with ones\n",
    "# copy     = for creating a copy of an array\n",
    "# cos      = used to compute cosine of an angle\n",
    "# tan      = used to compute tangent of an angle\n",
    "# pi       = for the constant pi\n",
    "# linspace = used for evenly spaced values over a specified interval\n",
    "from math import sqrt # for computing the sqrt of a number\n",
    "import numpy as np    # for array and math functions\n",
    "\n",
    "## DEFINING THE GAUSSXW ##\n",
    "def gaussxw(N): # Newmann Appendix E\n",
    "\n",
    "# Initial approximation to roots of the Legendre polynomial\n",
    "  a = linspace(3, 4*N-1, N)/(4*N+2) # Approximates the initial estimate for the roots of legendre polynomial\n",
    "  x = cos(pi*a+1/(8*N*N*tan(a)))    # the initial estimate of the roots using cosine function and a correction term\n",
    "\n",
    "# Find roots using Newton's method\n",
    "  epsilon = 1e-15                             # Determines convergence\n",
    "  delta = 1.0                                 # Will be used to measure the change in x\n",
    "  while delta>epsilon:                        # Checks if delta is greater than or less than epsilon\n",
    "    p0 = ones(N,float)\n",
    "    p1 = copy(x)\n",
    "    for k in range (1,N):                     # this loop is created to refine the estimation for the roots\n",
    "      p0, p1 = p1, ((2*k+1)*x*p1-k*p0)/(k+1)  # p0 and p1 shows successive polynomials\n",
    "    dp = (N+1)*(p0-x*p1)/(1-x*x)              # derivative of p1\n",
    "    dx = p1/dp                                # change of x taken from the ratio of p1 to dp\n",
    "    x -= dx                                   # updates the estimation of the roots\n",
    "    delta = max(abs(dx))                      # updates the convergence measure\n",
    "\n",
    "  # calculate the weights\n",
    "  w = 2*(N+1)*(N+1)/(N*N*(1-x*x)*dp*dp)\n",
    "\n",
    "  return x,w # returns the x and w after calculating the weights\n",
    "# Defining the polynomial function that will be integrated\n",
    "\n",
    "## USING THE GAUSSXW TO APPROXIMATE THE INTEGRAL ##\n",
    "def V(x):\n",
    "  return x**4\n",
    "# Defining the integrand\n",
    "def integ(x, a): # if x==a, the denominator will be zero and the fnct will be undefined\n",
    "  return 1/sqrt(V(a)-V(x))\n",
    "\n",
    "# Calculating the Period (T) using the gaussian quadrature\n",
    "def T(a, N):\n",
    "# Calculate the sample points and weights, then map them to the required integration domain\n",
    "  x, w = gaussxw(N)           # uses the gaussxw(N) function to obtain the quadrature points and weight\n",
    "  xp = 0.5*(a)*x + 0.5* (a)   # used to map the quadrature points from the standard interval [-1,1] to the given [0, a]\n",
    "  wp = 0.5*(a)*w              # scales the weights properly for the given interval [0, a]\n",
    "\n",
    "  # perform the integration\n",
    "  # determines the integral approximation\n",
    "  T = 0.0\n",
    "  for k in range(1, N):\n",
    "    T += wp[k]*integ(xp[k], a) # adds up the product of weights and function values at the quadrature points to get the approximation.\n",
    "  return sqrt(8*m)*T           # returns the period T scaled by sqrt(8*m)\n",
    "\n",
    "## PLOTTING ##\n",
    "\n",
    "# Listing the Given values\n",
    "N = 20  # number of slices\n",
    "m = 1.0 # mass\n",
    "a = 2.0 # upper-bound amplitude\n",
    "\n",
    "# Plotting T versus a\n",
    "N_plot = 50 # number of pts plotted\n",
    "a_pts = np.zeros(N_plot) # x-axis\n",
    "T_pts = np.zeros(N_plot) # y-axis\n",
    "\n",
    "for i in range(N_plot):\n",
    "  a_pts[i] = a/N_plot * (i+1) # generated amplitude values for plotting\n",
    "for i in range(N_plot):\n",
    "  T_pts[i] = T(a_pts[i], N)   # computes the period for each amplitude\n",
    "\n",
    "plt.scatter(a_pts, T_pts)                    # creates the plot amplitude vs. period\n",
    "plt.grid()                                # This grid allows us to make a better observation in the data on higher amplitude values\n",
    "plt.xlabel(\"amplitude(a)\")                # adds the x-label for plot\n",
    "plt.ylabel(\"period(T)\")                   # adds the y-label for plot\n",
    "plt.title(\"Plot of period vs. amplitude\") # adds the title of the plot\n",
    "plt.show()                                # displays the plot\n",
    "print(\"\") # space\n",
    "\n",
    "## EXPLANATION OF THE BEHAVIOR OF THE PLOT ##\n",
    "print ('''The plot shows that the period and amplitude have a non-linear relationship as the amplitude increases the time period becomes shorter,\n",
    "The oscillation (Period) speeds up as the amplitude increases, despite the particle having further distrance to travel for larger amplitudes,\n",
    "The larger amplitude might have provided a stronger restoring force resulting a shorter period as seen in the plot.''')\n"
   ]
  },
  {
   "cell_type": "markdown",
   "metadata": {},
   "source": [
    "<font color='red'>**#2:** There is no need to redefine the `gaussxw()` function unless modifications were made.</font> \\\n",
    "<font color='red'>**#3:** (-1 pt) The comment in line 62 of the above code celll is an inaccurate description of the Gaussian quadrature points. </font> \\\n",
    "<font color='red'>**#4:** (-2 pts) In defining `T(a,N)`, it is better to include the mass `m` as an argument. If the variable `m` is undefined or if the mass is assigned as another variable, the function `T(a,N)` will fail. </font> \\\n",
    "<font color='red'>**#5:** (-2) The results show that the period is dependent of amplitude, as expected of an anharmonic oscillator. </font>"
   ]
  }
 ],
 "metadata": {
  "colab": {
   "provenance": []
  },
  "kernelspec": {
   "display_name": "Python 3 (ipykernel)",
   "language": "python",
   "name": "python3"
  },
  "language_info": {
   "codemirror_mode": {
    "name": "ipython",
    "version": 3
   },
   "file_extension": ".py",
   "mimetype": "text/x-python",
   "name": "python",
   "nbconvert_exporter": "python",
   "pygments_lexer": "ipython3",
   "version": "3.12.2"
  }
 },
 "nbformat": 4,
 "nbformat_minor": 4
}
